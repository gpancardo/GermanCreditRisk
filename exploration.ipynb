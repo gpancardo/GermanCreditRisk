{
 "cells": [
  {
   "cell_type": "markdown",
   "id": "88c35720",
   "metadata": {},
   "source": [
    "# German Credit Risk 🇩🇪🏦📉\n",
    "## Project description\n",
    "**Using the original [StatLog dataset](https://archive.ics.uci.edu/dataset/144/statlog+german+credit+data \"UCI ML Repository\") from _UC Irvine's Machine Learning Repository_, I will develop a Machine Learning model that classifies debt risk.\\\n",
    "The original dataset includes categorical data about safe and risky borrowers. The second was developed by Strathclyde University by converting the attributes to numeric information and adding variables to work better with methods that can not handle categorical information.\\\n",
    "Categorical datasets work better with the Decision Tree algorithm I am going to use.**"
   ]
  },
  {
   "cell_type": "markdown",
   "id": "ba1d8494",
   "metadata": {},
   "source": [
    "## Data cleaning and preparation\n",
    "The dataset "
   ]
  },
  {
   "cell_type": "code",
   "execution_count": null,
   "id": "a6b47712",
   "metadata": {},
   "outputs": [],
   "source": []
  }
 ],
 "metadata": {
  "kernelspec": {
   "display_name": "environment",
   "language": "python",
   "name": "python3"
  },
  "language_info": {
   "codemirror_mode": {
    "name": "ipython",
    "version": 3
   },
   "file_extension": ".py",
   "mimetype": "text/x-python",
   "name": "python",
   "nbconvert_exporter": "python",
   "pygments_lexer": "ipython3",
   "version": "3.12.3"
  }
 },
 "nbformat": 4,
 "nbformat_minor": 5
}
